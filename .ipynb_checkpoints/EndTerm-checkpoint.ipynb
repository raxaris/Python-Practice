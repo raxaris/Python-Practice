{
 "cells": [
  {
   "cell_type": "code",
   "execution_count": null,
   "id": "c36579ff",
   "metadata": {},
   "outputs": [],
   "source": [
    "!pip install requests beautifulsoup4 pandas matplotlib seaborn"
   ]
  },
  {
   "cell_type": "code",
   "execution_count": null,
   "id": "b6c98317",
   "metadata": {},
   "outputs": [],
   "source": [
    "def parse_resumes(search_text):\n",
    "    url = f\"https://hh.kz/search/resume?text={search_text}&area=40&isDefaultArea=true&pos=full_text&logic=normal&exp_period=all_time&currency_code=KZT&ored_clusters=true&order_by=relevance\"\n",
    "    response = requests.get(url)\n",
    "    soup = BeautifulSoup(response.content, 'html.parser')\n",
    "    resume_links = []\n",
    "    for a in soup.find_all('a', class_='resume-search-item__name'):\n",
    "        resume_links.append(a['href'])\n",
    "        \n",
    "    data = []\n",
    "    \n",
    "    for link in resume_links[:500]:\n",
    "        \n",
    "        response = requests.get(link)\n",
    "        soup = BeautifulSoup(response.content, 'html.parser')\n",
    "        title = soup.find('h1', class_='resume-header-block__title').text\n",
    "        specialization = soup.find('span', class_='resume-block__title-text').text\n",
    "        salary = soup.find('span', class_='resume-block__salary').text\n",
    "        age = soup.find('span', class_='resume-block__title-text').find_next_sibling().text\n",
    "        employment = soup.find('div', text='Занятость').find_next_sibling().text\n",
    "        work_schedule = soup.find('div', text='График работы').find_next_sibling().text\n",
    "        experience_years = soup.find('div', text='Опыт работы').find_next_sibling().find('span').text\n",
    "        experience_month = soup.find('div', text='Опыт работы').find_next_sibling().find('div').text\n",
    "        citizenship = soup.find('div', text='Гражданство').find_next_sibling().text\n",
    "        sex = soup.find('div', text='Пол').find_next_sibling().text.lower() == 'мужской'\n",
    "\n",
    "        data.append([title, specialization, salary, age, employment, work_schedule, experience_years, experience_month, citizenship, sex])\n",
    "\n",
    "    df = pd.DataFrame(data, columns=['Title', 'Specialization', 'Salary', 'Age', 'Employment', 'Work schedule', 'Experience_years', 'Experience_month', 'Citizenship', 'Sex'])\n",
    "    return df"
   ]
  },
  {
   "cell_type": "code",
   "execution_count": null,
   "id": "9da14871",
   "metadata": {},
   "outputs": [],
   "source": [
    "import pandas as pd\n",
    "import matplotlib.pyplot as plt\n",
    "import seaborn as sns\n",
    "from my_module import parse_resumes"
   ]
  }
 ],
 "metadata": {
  "kernelspec": {
   "display_name": "Python 3 (ipykernel)",
   "language": "python",
   "name": "python3"
  },
  "language_info": {
   "codemirror_mode": {
    "name": "ipython",
    "version": 3
   },
   "file_extension": ".py",
   "mimetype": "text/x-python",
   "name": "python",
   "nbconvert_exporter": "python",
   "pygments_lexer": "ipython3",
   "version": "3.10.9"
  }
 },
 "nbformat": 4,
 "nbformat_minor": 5
}
